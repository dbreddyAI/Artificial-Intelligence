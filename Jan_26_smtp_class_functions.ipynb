{
 "cells": [
  {
   "cell_type": "code",
   "execution_count": 2,
   "metadata": {},
   "outputs": [],
   "source": [
    "import smtplib"
   ]
  },
  {
   "cell_type": "code",
   "execution_count": 3,
   "metadata": {},
   "outputs": [
    {
     "data": {
      "text/plain": [
       "['CRLF',\n",
       " 'LMTP',\n",
       " 'LMTP_PORT',\n",
       " 'OLDSTYLE_AUTH',\n",
       " 'SMTP',\n",
       " 'SMTPAuthenticationError',\n",
       " 'SMTPConnectError',\n",
       " 'SMTPDataError',\n",
       " 'SMTPException',\n",
       " 'SMTPHeloError',\n",
       " 'SMTPNotSupportedError',\n",
       " 'SMTPRecipientsRefused',\n",
       " 'SMTPResponseException',\n",
       " 'SMTPSenderRefused',\n",
       " 'SMTPServerDisconnected',\n",
       " 'SMTP_PORT',\n",
       " 'SMTP_SSL',\n",
       " 'SMTP_SSL_PORT',\n",
       " '_MAXLINE',\n",
       " '__all__',\n",
       " '__builtins__',\n",
       " '__cached__',\n",
       " '__doc__',\n",
       " '__file__',\n",
       " '__loader__',\n",
       " '__name__',\n",
       " '__package__',\n",
       " '__spec__',\n",
       " '_addr_only',\n",
       " '_fix_eols',\n",
       " '_have_ssl',\n",
       " '_quote_periods',\n",
       " 'bCRLF',\n",
       " 'base64',\n",
       " 'copy',\n",
       " 'datetime',\n",
       " 'email',\n",
       " 'encode_base64',\n",
       " 'hmac',\n",
       " 'io',\n",
       " 'quoteaddr',\n",
       " 'quotedata',\n",
       " 're',\n",
       " 'socket',\n",
       " 'ssl',\n",
       " 'sys']"
      ]
     },
     "execution_count": 3,
     "metadata": {},
     "output_type": "execute_result"
    }
   ],
   "source": [
    "dir(smtplib)"
   ]
  },
  {
   "cell_type": "code",
   "execution_count": 6,
   "metadata": {},
   "outputs": [
    {
     "name": "stdout",
     "output_type": "stream",
     "text": [
      "Email sent successfully\n"
     ]
    }
   ],
   "source": [
    "import smtplib\n",
    "\n",
    "\n",
    "mail_user = 'rr5059@gmail.com'  \n",
    "mail_password = 're'\n",
    "\n",
    "sent_from = mail_user  \n",
    "toadress = ['rr5059285@gmail.com','gowrikumar9092@gmail.com','quddus03@gmail.com','nidheesh1003@gmail.com','sivalix21@gmail.com'] \n",
    "email_body = 'Dear Employee , Salary for month of JANUARY 2019 will be credited to your bank A/C shortly'\n",
    "\n",
    "try:\n",
    "    server = smtplib.SMTP('smtp.gmail.com',587)\n",
    "    server.ehlo()\n",
    "    server.starttls()\n",
    "    server.login(mail_user, mail_password)\n",
    "    server.sendmail(sent_from, toadress, email_body)\n",
    "    server.close()\n",
    "    print('Email sent successfully')\n",
    "except smtplib.SMTPException:\n",
    "   print(\"Error: unable to send email\")"
   ]
  },
  {
   "cell_type": "code",
   "execution_count": 17,
   "metadata": {},
   "outputs": [
    {
     "name": "stdout",
     "output_type": "stream",
     "text": [
      "sending x value into function and printing same value below\n",
      "6\n",
      "<class 'int'>\n"
     ]
    }
   ],
   "source": [
    "def venolearn(x):\n",
    "    print(\"sending x value into function and printing same value below\")\n",
    "    print(x)\n",
    "    print(type(x))\n",
    "    \n",
    "\n",
    "venolearn(6)"
   ]
  },
  {
   "cell_type": "code",
   "execution_count": 19,
   "metadata": {},
   "outputs": [
    {
     "name": "stdout",
     "output_type": "stream",
     "text": [
      "Name :  venolearn1 , Salary:  5000\n",
      "Name :  venolearn2 , Salary:  5000\n",
      "Name :  venolearn3 , Salary:  5000\n",
      "Name :  venolearn4 , Salary:  5000\n",
      "Name :  venolearn5 , Salary:  5000\n",
      "Total Employee 6\n"
     ]
    }
   ],
   "source": [
    "class Employee:\n",
    "   empCount = 0\n",
    "\n",
    "   def __init__(self, name, salary):\n",
    "      self.name = name\n",
    "      self.salary = salary\n",
    "      Employee.empCount += 1\n",
    "   \n",
    "   def displayCount(self):\n",
    "     print(\"Total Employee %d\" % Employee.empCount)\n",
    "\n",
    "   def displayEmployee(self):\n",
    "      print(\"Name : \", self.name,  \", Salary: \", self.salary)\n",
    "        \n",
    "\n",
    "Employee(\"venolearn1\",5000).displayEmployee()\n",
    "Employee(\"venolearn2\",5000).displayEmployee()\n",
    "Employee(\"venolearn3\",5000).displayEmployee()\n",
    "Employee(\"venolearn4\",5000).displayEmployee()\n",
    "Employee(\"venolearn5\",5000).displayEmployee()\n",
    "Employee(\"bharath\",5000).displayCount()\n",
    "        "
   ]
  },
  {
   "cell_type": "code",
   "execution_count": 25,
   "metadata": {},
   "outputs": [
    {
     "name": "stdout",
     "output_type": "stream",
     "text": [
      "Type of account is current account\n",
      "doubt clearance - else is closed here as case is false \n",
      "___________________________\n",
      "Type of account is savings account\n",
      "ROI is 10 percent\n"
     ]
    }
   ],
   "source": [
    "class yesbank():\n",
    "    def account(x,bal):\n",
    "        y = \"savings\"\n",
    "        if x == y:\n",
    "            print(\"Type of account is savings account\")\n",
    "            if bal < 1000:\n",
    "                print(\"ROI is 5 percent\")\n",
    "                print(\"doubt clearance - if is closed here as case is true \")\n",
    "            else :\n",
    "                print(\"ROI is 10 percent\")\n",
    "        else :\n",
    "            print(\"Type of account is current account\")\n",
    "            print(\"doubt clearance - else is closed here as case is false \")\n",
    "            \n",
    "# yesbank.account(2)\n",
    "yesbank.account(\"demat\",500)\n",
    "print(\"___________________________\")\n",
    "yesbank.account(\"savings\",2000)"
   ]
  },
  {
   "cell_type": "code",
   "execution_count": 26,
   "metadata": {},
   "outputs": [
    {
     "name": "stdout",
     "output_type": "stream",
     "text": [
      "______________________________\n",
      "General\n",
      "1000\n",
      "______________________________\n",
      "catcard\n",
      "900\n",
      "______________________________\n",
      "seniorcitizen\n",
      "700\n",
      "______________________________\n",
      "deptemp\n",
      "500\n"
     ]
    }
   ],
   "source": [
    "class BMTC():\n",
    "    def ticket_fare():\n",
    "        concession = [\"General\",\"catcard\",\"seniorcitizen\",\"deptemp\"]\n",
    "        for i in range(len(concession)):\n",
    "            actual_ticket_fare = 1000\n",
    "            x = concession[i]\n",
    "            print(\"______________________________\")\n",
    "            print(x)\n",
    "            if x == \"General\":\n",
    "                amount = actual_ticket_fare\n",
    "                print(amount)\n",
    "            elif x == \"catcard\":\n",
    "                amount = actual_ticket_fare - 100\n",
    "                print(amount)\n",
    "            elif x == \"seniorcitizen\":\n",
    "                amount = actual_ticket_fare - 300\n",
    "                print(amount)\n",
    "            else:\n",
    "                amount = actual_ticket_fare - 500\n",
    "                print(amount)\n",
    "                \n",
    "BMTC.ticket_fare()"
   ]
  },
  {
   "cell_type": "code",
   "execution_count": 29,
   "metadata": {},
   "outputs": [
    {
     "name": "stdout",
     "output_type": "stream",
     "text": [
      " NO Discount\n"
     ]
    }
   ],
   "source": [
    "class makemytrip():\n",
    "    def discount(x):\n",
    "        if x == \"creditcard\":\n",
    "            print(\"Discount is 20 percent\")\n",
    "        else :\n",
    "            print(\" NO Discount\")\n",
    "makemytrip.discount(100)    "
   ]
  },
  {
   "cell_type": "code",
   "execution_count": null,
   "metadata": {},
   "outputs": [],
   "source": []
  }
 ],
 "metadata": {
  "kernelspec": {
   "display_name": "Python 3",
   "language": "python",
   "name": "python3"
  },
  "language_info": {
   "codemirror_mode": {
    "name": "ipython",
    "version": 3
   },
   "file_extension": ".py",
   "mimetype": "text/x-python",
   "name": "python",
   "nbconvert_exporter": "python",
   "pygments_lexer": "ipython3",
   "version": "3.7.1"
  }
 },
 "nbformat": 4,
 "nbformat_minor": 2
}
