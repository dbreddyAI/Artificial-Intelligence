{
 "cells": [
  {
   "cell_type": "markdown",
   "metadata": {},
   "source": [
    "Array Vs List\n",
    "----------------------"
   ]
  },
  {
   "cell_type": "markdown",
   "metadata": {},
   "source": [
    "Used for storing the data , and are mutable , can be indexed , sliced  and iterated through "
   ]
  },
  {
   "cell_type": "markdown",
   "metadata": {},
   "source": [
    "Array can store homogenuos data elements but list stores heterogenuos data elements "
   ]
  },
  {
   "cell_type": "markdown",
   "metadata": {},
   "source": [
    "Arrays are specially optimised for arithmetic computations "
   ]
  },
  {
   "cell_type": "markdown",
   "metadata": {},
   "source": [
    "Arrays are efficient (functionality and speed)"
   ]
  },
  {
   "cell_type": "markdown",
   "metadata": {},
   "source": [
    "Arrays are compact (in size)"
   ]
  },
  {
   "cell_type": "markdown",
   "metadata": {},
   "source": [
    "Below the divison on list and array by certain number"
   ]
  },
  {
   "cell_type": "code",
   "execution_count": 2,
   "metadata": {},
   "outputs": [
    {
     "name": "stdout",
     "output_type": "stream",
     "text": [
      "[1. 2. 3. 4. 5.]\n"
     ]
    },
    {
     "ename": "TypeError",
     "evalue": "unsupported operand type(s) for /: 'list' and 'int'",
     "output_type": "error",
     "traceback": [
      "\u001b[1;31m---------------------------------------------------------------------------\u001b[0m",
      "\u001b[1;31mTypeError\u001b[0m                                 Traceback (most recent call last)",
      "\u001b[1;32m<ipython-input-2-089f08291826>\u001b[0m in \u001b[0;36m<module>\u001b[1;34m\u001b[0m\n\u001b[0;32m      3\u001b[0m \u001b[0mlist_a\u001b[0m \u001b[1;33m=\u001b[0m \u001b[1;33m[\u001b[0m\u001b[1;36m3\u001b[0m\u001b[1;33m,\u001b[0m \u001b[1;36m6\u001b[0m\u001b[1;33m,\u001b[0m \u001b[1;36m9\u001b[0m\u001b[1;33m,\u001b[0m \u001b[1;36m12\u001b[0m\u001b[1;33m,\u001b[0m \u001b[1;36m15\u001b[0m\u001b[1;33m]\u001b[0m\u001b[1;33m\u001b[0m\u001b[1;33m\u001b[0m\u001b[0m\n\u001b[0;32m      4\u001b[0m \u001b[0mprint\u001b[0m\u001b[1;33m(\u001b[0m\u001b[0marray_a\u001b[0m\u001b[1;33m/\u001b[0m\u001b[1;36m2\u001b[0m\u001b[1;33m)\u001b[0m\u001b[1;33m\u001b[0m\u001b[1;33m\u001b[0m\u001b[0m\n\u001b[1;32m----> 5\u001b[1;33m \u001b[0mprint\u001b[0m\u001b[1;33m(\u001b[0m\u001b[0mlist_a\u001b[0m\u001b[1;33m/\u001b[0m\u001b[1;36m3\u001b[0m\u001b[1;33m)\u001b[0m\u001b[1;33m\u001b[0m\u001b[1;33m\u001b[0m\u001b[0m\n\u001b[0m",
      "\u001b[1;31mTypeError\u001b[0m: unsupported operand type(s) for /: 'list' and 'int'"
     ]
    }
   ],
   "source": [
    "import numpy\n",
    "array_a = numpy.array([2, 4, 6, 8, 10])\n",
    "list_a = [3, 6, 9, 12, 15]\n",
    "print(array_a/2)\n",
    "print(list_a/3)"
   ]
  },
  {
   "cell_type": "code",
   "execution_count": 4,
   "metadata": {},
   "outputs": [
    {
     "name": "stdout",
     "output_type": "stream",
     "text": [
      "________________________________________________\n",
      "Checking the type of elements of array\n",
      "['1' '2' '3' 'venolearn']\n",
      "<class 'numpy.ndarray'>\n",
      "1\n",
      "<class 'numpy.str_'>\n",
      "2\n",
      "<class 'numpy.str_'>\n",
      "3\n",
      "<class 'numpy.str_'>\n",
      "venolearn\n",
      "<class 'numpy.str_'>\n",
      "________________________________________________\n"
     ]
    }
   ],
   "source": [
    "print(\"________________________________________________\")\n",
    "array_x = numpy.array([1 , 2,  3,  'venolearn'])\n",
    "print(\"Checking the type of elements of array\")\n",
    "print(array_x)\n",
    "print(type(array_x))\n",
    "for i in array_x:\n",
    "    print(i)\n",
    "    print(type(i))\n",
    "print(\"________________________________________________\")\n",
    "# output shows the str as type , so in an array all elements are of same type\n"
   ]
  },
  {
   "cell_type": "code",
   "execution_count": 6,
   "metadata": {},
   "outputs": [
    {
     "name": "stdout",
     "output_type": "stream",
     "text": [
      "________________________________________________\n",
      "Checking the type of elements of list\n",
      "[1, 2, 3, 'venolearn']\n",
      "<class 'list'>\n",
      "1\n",
      "<class 'int'>\n",
      "2\n",
      "<class 'int'>\n",
      "3\n",
      "<class 'int'>\n",
      "venolearn\n",
      "<class 'str'>\n",
      "________________________________________________\n"
     ]
    }
   ],
   "source": [
    "print(\"________________________________________________\")\n",
    "list_x = [1 , 2,  3,  'venolearn']\n",
    "print(\"Checking the type of elements of list\")\n",
    "print(list_x)\n",
    "print(type(list_x))\n",
    "for i in list_x:\n",
    "    print(i)\n",
    "    print(type(i))\n",
    "print(\"________________________________________________\")\n",
    "# output shows the int & str as type , so in an list all elements are of different type"
   ]
  },
  {
   "cell_type": "markdown",
   "metadata": {},
   "source": [
    "Numpy\n",
    "--------"
   ]
  },
  {
   "cell_type": "markdown",
   "metadata": {},
   "source": [
    "Numpy stands for Numerical Python , \n",
    "Numpy is a Library in python that deals with multidimensional Arrays."
   ]
  },
  {
   "cell_type": "code",
   "execution_count": 1,
   "metadata": {},
   "outputs": [
    {
     "name": "stdout",
     "output_type": "stream",
     "text": [
      "1.15.4\n",
      "['ALLOW_THREADS', 'AxisError', 'BUFSIZE', 'CLIP', 'ComplexWarning', 'DataSource', 'ERR_CALL', 'ERR_DEFAULT', 'ERR_IGNORE', 'ERR_LOG', 'ERR_PRINT', 'ERR_RAISE', 'ERR_WARN', 'FLOATING_POINT_SUPPORT', 'FPE_DIVIDEBYZERO', 'FPE_INVALID', 'FPE_OVERFLOW', 'FPE_UNDERFLOW', 'False_', 'Inf', 'Infinity', 'MAXDIMS', 'MAY_SHARE_BOUNDS', 'MAY_SHARE_EXACT', 'MachAr', 'ModuleDeprecationWarning', 'NAN', 'NINF', 'NZERO', 'NaN', 'PINF', 'PZERO', 'PackageLoader', 'RAISE', 'RankWarning', 'SHIFT_DIVIDEBYZERO', 'SHIFT_INVALID', 'SHIFT_OVERFLOW', 'SHIFT_UNDERFLOW', 'ScalarType', 'Tester', 'TooHardError', 'True_', 'UFUNC_BUFSIZE_DEFAULT', 'UFUNC_PYVALS_NAME', 'VisibleDeprecationWarning', 'WRAP', '_NoValue', '__NUMPY_SETUP__', '__all__', '__builtins__', '__cached__', '__config__', '__doc__', '__file__', '__git_revision__', '__loader__', '__mkl_version__', '__name__', '__package__', '__path__', '__spec__', '__version__', '_distributor_init', '_globals', '_import_tools', '_mat', '_mklinit', 'abs', 'absolute', 'absolute_import', 'add', 'add_docstring', 'add_newdoc', 'add_newdoc_ufunc', 'add_newdocs', 'alen', 'all', 'allclose', 'alltrue', 'amax', 'amin', 'angle', 'any', 'append', 'apply_along_axis', 'apply_over_axes', 'arange', 'arccos', 'arccosh', 'arcsin', 'arcsinh', 'arctan', 'arctan2', 'arctanh', 'argmax', 'argmin', 'argpartition', 'argsort', 'argwhere', 'around', 'array', 'array2string', 'array_equal', 'array_equiv', 'array_repr', 'array_split', 'array_str', 'asanyarray', 'asarray', 'asarray_chkfinite', 'ascontiguousarray', 'asfarray', 'asfortranarray', 'asmatrix', 'asscalar', 'atleast_1d', 'atleast_2d', 'atleast_3d', 'average', 'bartlett', 'base_repr', 'binary_repr', 'bincount', 'bitwise_and', 'bitwise_not', 'bitwise_or', 'bitwise_xor', 'blackman', 'block', 'bmat', 'bool', 'bool8', 'bool_', 'broadcast', 'broadcast_arrays', 'broadcast_to', 'busday_count', 'busday_offset', 'busdaycalendar', 'byte', 'byte_bounds', 'bytes0', 'bytes_', 'c_', 'can_cast', 'cast', 'cbrt', 'cdouble', 'ceil', 'cfloat', 'char', 'character', 'chararray', 'choose', 'clip', 'clongdouble', 'clongfloat', 'column_stack', 'common_type', 'compare_chararrays', 'compat', 'complex', 'complex128', 'complex64', 'complex_', 'complexfloating', 'compress', 'concatenate', 'conj', 'conjugate', 'convolve', 'copy', 'copysign', 'copyto', 'core', 'corrcoef', 'correlate', 'cos', 'cosh', 'count_nonzero', 'cov', 'cross', 'csingle', 'ctypeslib', 'cumprod', 'cumproduct', 'cumsum', 'datetime64', 'datetime_as_string', 'datetime_data', 'deg2rad', 'degrees', 'delete', 'deprecate', 'deprecate_with_doc', 'diag', 'diag_indices', 'diag_indices_from', 'diagflat', 'diagonal', 'diff', 'digitize', 'disp', 'divide', 'division', 'divmod', 'dot', 'double', 'dsplit', 'dstack', 'dtype', 'e', 'ediff1d', 'einsum', 'einsum_path', 'emath', 'empty', 'empty_like', 'equal', 'erf', 'errstate', 'euler_gamma', 'exp', 'exp2', 'expand_dims', 'expm1', 'extract', 'eye', 'fabs', 'fastCopyAndTranspose', 'fft', 'fill_diagonal', 'find_common_type', 'finfo', 'fix', 'flatiter', 'flatnonzero', 'flexible', 'flip', 'fliplr', 'flipud', 'float', 'float16', 'float32', 'float64', 'float_', 'float_power', 'floating', 'floor', 'floor_divide', 'fmax', 'fmin', 'fmod', 'format_float_positional', 'format_float_scientific', 'format_parser', 'frexp', 'frombuffer', 'fromfile', 'fromfunction', 'fromiter', 'frompyfunc', 'fromregex', 'fromstring', 'full', 'full_like', 'fv', 'gcd', 'generic', 'genfromtxt', 'geomspace', 'get_array_wrap', 'get_include', 'get_printoptions', 'getbufsize', 'geterr', 'geterrcall', 'geterrobj', 'gradient', 'greater', 'greater_equal', 'half', 'hamming', 'hanning', 'heaviside', 'histogram', 'histogram2d', 'histogram_bin_edges', 'histogramdd', 'hsplit', 'hstack', 'hypot', 'i0', 'identity', 'iinfo', 'imag', 'in1d', 'index_exp', 'indices', 'inexact', 'inf', 'info', 'infty', 'inner', 'insert', 'int', 'int0', 'int16', 'int32', 'int64', 'int8', 'int_', 'int_asbuffer', 'intc', 'integer', 'interp', 'intersect1d', 'intp', 'invert', 'ipmt', 'irr', 'is_busday', 'isclose', 'iscomplex', 'iscomplexobj', 'isfinite', 'isfortran', 'isin', 'isinf', 'isnan', 'isnat', 'isneginf', 'isposinf', 'isreal', 'isrealobj', 'isscalar', 'issctype', 'issubclass_', 'issubdtype', 'issubsctype', 'iterable', 'ix_', 'kaiser', 'kron', 'lcm', 'ldexp', 'left_shift', 'less', 'less_equal', 'lexsort', 'lib', 'linalg', 'linspace', 'little_endian', 'load', 'loads', 'loadtxt', 'log', 'log10', 'log1p', 'log2', 'logaddexp', 'logaddexp2', 'logical_and', 'logical_not', 'logical_or', 'logical_xor', 'logspace', 'long', 'longcomplex', 'longdouble', 'longfloat', 'longlong', 'lookfor', 'ma', 'mafromtxt', 'mask_indices', 'mat', 'math', 'matmul', 'matrix', 'matrixlib', 'max', 'maximum', 'maximum_sctype', 'may_share_memory', 'mean', 'median', 'memmap', 'meshgrid', 'mgrid', 'min', 'min_scalar_type', 'minimum', 'mintypecode', 'mirr', 'mod', 'modf', 'moveaxis', 'msort', 'multiply', 'nan', 'nan_to_num', 'nanargmax', 'nanargmin', 'nancumprod', 'nancumsum', 'nanmax', 'nanmean', 'nanmedian', 'nanmin', 'nanpercentile', 'nanprod', 'nanquantile', 'nanstd', 'nansum', 'nanvar', 'nbytes', 'ndarray', 'ndenumerate', 'ndfromtxt', 'ndim', 'ndindex', 'nditer', 'negative', 'nested_iters', 'newaxis', 'nextafter', 'nonzero', 'not_equal', 'nper', 'npv', 'numarray', 'number', 'obj2sctype', 'object', 'object0', 'object_', 'ogrid', 'oldnumeric', 'ones', 'ones_like', 'outer', 'packbits', 'pad', 'partition', 'percentile', 'pi', 'piecewise', 'pkgload', 'place', 'pmt', 'poly', 'poly1d', 'polyadd', 'polyder', 'polydiv', 'polyfit', 'polyint', 'polymul', 'polynomial', 'polysub', 'polyval', 'positive', 'power', 'ppmt', 'print_function', 'printoptions', 'prod', 'product', 'promote_types', 'ptp', 'put', 'put_along_axis', 'putmask', 'pv', 'quantile', 'r_', 'rad2deg', 'radians', 'random', 'rank', 'rate', 'ravel', 'ravel_multi_index', 'real', 'real_if_close', 'rec', 'recarray', 'recfromcsv', 'recfromtxt', 'reciprocal', 'record', 'remainder', 'repeat', 'require', 'reshape', 'resize', 'result_type', 'right_shift', 'rint', 'roll', 'rollaxis', 'roots', 'rot90', 'round', 'round_', 'row_stack', 's_', 'safe_eval', 'save', 'savetxt', 'savez', 'savez_compressed', 'sctype2char', 'sctypeDict', 'sctypeNA', 'sctypes', 'searchsorted', 'select', 'set_numeric_ops', 'set_printoptions', 'set_string_function', 'setbufsize', 'setdiff1d', 'seterr', 'seterrcall', 'seterrobj', 'setxor1d', 'shape', 'shares_memory', 'short', 'show_config', 'sign', 'signbit', 'signedinteger', 'sin', 'sinc', 'single', 'singlecomplex', 'sinh', 'size', 'sometrue', 'sort', 'sort_complex', 'source', 'spacing', 'split', 'sqrt', 'square', 'squeeze', 'stack', 'std', 'str', 'str0', 'str_', 'string_', 'subtract', 'sum', 'swapaxes', 'sys', 'take', 'take_along_axis', 'tan', 'tanh', 'tensordot', 'test', 'testing', 'tile', 'timedelta64', 'trace', 'tracemalloc_domain', 'transpose', 'trapz', 'tri', 'tril', 'tril_indices', 'tril_indices_from', 'trim_zeros', 'triu', 'triu_indices', 'triu_indices_from', 'true_divide', 'trunc', 'typeDict', 'typeNA', 'typecodes', 'typename', 'ubyte', 'ufunc', 'uint', 'uint0', 'uint16', 'uint32', 'uint64', 'uint8', 'uintc', 'uintp', 'ulonglong', 'unicode', 'unicode_', 'union1d', 'unique', 'unpackbits', 'unravel_index', 'unsignedinteger', 'unwrap', 'ushort', 'vander', 'var', 'vdot', 'vectorize', 'version', 'void', 'void0', 'vsplit', 'vstack', 'warnings', 'where', 'who', 'zeros', 'zeros_like']\n"
     ]
    }
   ],
   "source": [
    "import numpy as np \n",
    "print(np.__version__)\n",
    "print(dir(np))"
   ]
  },
  {
   "cell_type": "markdown",
   "metadata": {},
   "source": [
    "1 - D Array \n",
    "---------"
   ]
  },
  {
   "cell_type": "markdown",
   "metadata": {},
   "source": [
    "1-D array can be initialised in 2 ways one is with list and other is with arange function "
   ]
  },
  {
   "cell_type": "code",
   "execution_count": 15,
   "metadata": {},
   "outputs": [
    {
     "name": "stdout",
     "output_type": "stream",
     "text": [
      "<class 'numpy.ndarray'>\n",
      "[1 2 3 4 5 6]\n",
      "1\n",
      "(6,)\n",
      "6\n",
      "int32\n"
     ]
    }
   ],
   "source": [
    "x = np.array([1, 2, 3, 4, 5, 6])\n",
    "print(type(x))\n",
    "print(x)\n",
    "print(x.ndim)\n",
    "print(x.shape)\n",
    "print(x.size)\n",
    "print(x.dtype)"
   ]
  },
  {
   "cell_type": "code",
   "execution_count": 18,
   "metadata": {},
   "outputs": [
    {
     "name": "stdout",
     "output_type": "stream",
     "text": [
      "[0 1 2 3 4 5 6 7 8 9]\n",
      "<class 'numpy.ndarray'>\n",
      "[ 7  8  9 10 11 12 13 14]\n",
      "<class 'numpy.ndarray'>\n",
      "[20 22 24 26 28]\n",
      "<class 'numpy.ndarray'>\n"
     ]
    }
   ],
   "source": [
    "p = np.arange(10) # arange(stop)\n",
    "q = np.arange(7,15) # arange(start,stop)\n",
    "r = np.arange(20,30,2) # arange(start,stop,step)\n",
    "print(p)\n",
    "print(type(p))\n",
    "print(q)\n",
    "print(type(q))\n",
    "print(r)\n",
    "print(type(r))"
   ]
  },
  {
   "cell_type": "code",
   "execution_count": 30,
   "metadata": {},
   "outputs": [
    {
     "name": "stdout",
     "output_type": "stream",
     "text": [
      "[0 1 2 3 4 5 6 7 8 9 9]\n",
      "4.909090909090909\n",
      "54\n",
      "0\n",
      "9\n",
      "0\n",
      "9\n",
      "3.0287874998104876\n",
      "5.0\n",
      "2.5\n",
      "7.5\n",
      "***********\n",
      "ModeResult(mode=array([9]), count=array([2]))\n"
     ]
    }
   ],
   "source": [
    "p = np.array([0, 1, 2, 3, 4, 5, 6, 7, 8, 9, 9])\n",
    "print(p)\n",
    "print(np.mean(p))\n",
    "print(np.sum(p))\n",
    "print(np.min(p))\n",
    "print(np.max(p))\n",
    "print(np.argmin(p))\n",
    "print(np.argmax(p))\n",
    "print(np.std(p))\n",
    "print(np.median(p))\n",
    "print(np.percentile(p , 25)) # lower percentile \n",
    "print(np.percentile(p , 75)) # upper percentile\n",
    "print(\"***********\")\n",
    "from scipy import stats\n",
    "print(stats.mode(p))"
   ]
  },
  {
   "cell_type": "markdown",
   "metadata": {},
   "source": [
    "2-D array\n",
    "-----------"
   ]
  },
  {
   "cell_type": "code",
   "execution_count": 38,
   "metadata": {},
   "outputs": [
    {
     "name": "stdout",
     "output_type": "stream",
     "text": [
      "[[1 2 3]\n",
      " [4 5 6]]\n",
      "2\n",
      "6\n",
      "(2, 3)\n"
     ]
    }
   ],
   "source": [
    "m = np.array([[1, 2, 3],[4, 5, 6]]) # intialization using list of lists\n",
    "print(m)\n",
    "print(m.ndim)\n",
    "print(m.size)\n",
    "print(m.shape)"
   ]
  },
  {
   "cell_type": "code",
   "execution_count": 41,
   "metadata": {},
   "outputs": [
    {
     "name": "stdout",
     "output_type": "stream",
     "text": [
      "[[0.09746322 0.08738092 0.46610105]\n",
      " [0.77748641 0.06577644 0.43418171]]\n",
      "___________________________________\n",
      "[[ 0.04374467 -0.30739924 -1.07912045]\n",
      " [-1.85363501 -0.46682485 -0.69578792]]\n",
      "___________________________________\n",
      "[[-0.2433834   0.27409395  0.30841211]\n",
      " [-0.80104429  0.64599633 -0.49204476]]\n"
     ]
    }
   ],
   "source": [
    "n1 = np.random.random(size=(2,3)) # intialization using random values\n",
    "print(n1)\n",
    "print(\"___________________________________\")\n",
    "n2 = np.random.normal(size=(2,3))\n",
    "print(n2)\n",
    "print(\"___________________________________\")\n",
    "n3 = np.random.randn(2,3)\n",
    "print(n3)"
   ]
  },
  {
   "cell_type": "code",
   "execution_count": 43,
   "metadata": {},
   "outputs": [
    {
     "name": "stdout",
     "output_type": "stream",
     "text": [
      "[[3 4 5 4]\n",
      " [5 3 3 4]\n",
      " [5 3 5 5]\n",
      " [3 3 5 5]]\n"
     ]
    }
   ],
   "source": [
    "k = np.random.randint(low=3,high=6,size=(4,4)) # intialization using random values\n",
    "print(k)"
   ]
  },
  {
   "cell_type": "code",
   "execution_count": 48,
   "metadata": {},
   "outputs": [
    {
     "name": "stdout",
     "output_type": "stream",
     "text": [
      "[[0. 0. 0.]\n",
      " [0. 0. 0.]\n",
      " [0. 0. 0.]]\n",
      "__________________________\n",
      "[[1. 1. 1.]\n",
      " [1. 1. 1.]\n",
      " [1. 1. 1.]]\n",
      "______________________________\n",
      "[[1. 0. 0.]\n",
      " [0. 1. 0.]\n",
      " [0. 0. 1.]]\n",
      "_______________________________\n",
      "[1. 1. 1.]\n",
      "_______________________\n",
      "3.0\n"
     ]
    }
   ],
   "source": [
    "z = np.zeros(shape=(3,3)) # zeros matrix\n",
    "print(z)\n",
    "print(\"__________________________\")\n",
    "o = np.ones(shape=(3,3)) # ones matrix\n",
    "print(o)\n",
    "print(\"______________________________\")\n",
    "i = np.identity(3) # identity matrix\n",
    "print(i)\n",
    "print(\"_______________________________\")\n",
    "print(np.diagonal(i)) # finding diagonal elements of matrix\n",
    "print(\"_______________________\")\n",
    "print(np.trace(i)) # trace of matrix = sum of all diagonal elements\n",
    "print(\"______________________\")\n"
   ]
  },
  {
   "cell_type": "code",
   "execution_count": 58,
   "metadata": {},
   "outputs": [
    {
     "name": "stdout",
     "output_type": "stream",
     "text": [
      "_________________________\n",
      "[[1 2 3]\n",
      " [4 5 6]\n",
      " [7 8 9]]\n",
      "_________________________\n",
      "2\n",
      "_________________________\n",
      "[[-4.50359963e+15  9.00719925e+15 -4.50359963e+15]\n",
      " [ 9.00719925e+15 -1.80143985e+16  9.00719925e+15]\n",
      " [-4.50359963e+15  9.00719925e+15 -4.50359963e+15]]\n",
      "_________________________\n",
      "[[1 4 7]\n",
      " [2 5 8]\n",
      " [3 6 9]]\n",
      "_________________________\n",
      "9\n",
      "(3, 3)\n",
      "[1 2 3 4 5 6 7 8 9]\n"
     ]
    }
   ],
   "source": [
    "matrix_a = np.array([[1, 2, 3],[4, 5, 6],[7, 8, 9]])\n",
    "print(\"_________________________\")\n",
    "print(matrix_a)\n",
    "print(\"_________________________\")\n",
    "print(np.linalg.matrix_rank(matrix_a))\n",
    "print(\"_________________________\")\n",
    "print(np.linalg.inv(matrix_a))\n",
    "print(\"_________________________\")\n",
    "print(np.transpose(matrix_a))\n",
    "print(\"_________________________\")\n",
    "print(matrix_a.size)\n",
    "print(matrix_a.shape)\n",
    "print(matrix_a.flatten())"
   ]
  },
  {
   "cell_type": "code",
   "execution_count": 2,
   "metadata": {},
   "outputs": [
    {
     "data": {
      "text/plain": [
       "array([[1.2345678, 1.2345678, 1.2345678, 1.2345678],\n",
       "       [1.2345678, 1.2345678, 1.2345678, 1.2345678],\n",
       "       [1.2345678, 1.2345678, 1.2345678, 1.2345678]])"
      ]
     },
     "execution_count": 2,
     "metadata": {},
     "output_type": "execute_result"
    }
   ],
   "source": [
    "np.full((3,4),1.2345678) # creates a matrix with predefined values "
   ]
  },
  {
   "cell_type": "code",
   "execution_count": 5,
   "metadata": {},
   "outputs": [
    {
     "data": {
      "text/plain": [
       "array([0.        , 0.33333333, 0.66666667, 1.        ])"
      ]
     },
     "execution_count": 5,
     "metadata": {},
     "output_type": "execute_result"
    }
   ],
   "source": [
    "np.linspace(0, 1, 4) # create an array of even space between the given range of values o and 1 "
   ]
  },
  {
   "cell_type": "code",
   "execution_count": 10,
   "metadata": {},
   "outputs": [
    {
     "name": "stdout",
     "output_type": "stream",
     "text": [
      "[18  1  9  1  6  0]\n",
      "___________________________________\n",
      "[[0 0 4 2]\n",
      " [1 2 2 4]\n",
      " [3 3 0 1]]\n"
     ]
    }
   ],
   "source": [
    "x1 = np.random.randint(20, size=6) #one dimension\n",
    "x2 = np.random.randint(5, size=(3,4)) #two dimension\n",
    "print(x1)\n",
    "print(\"___________________________________\")\n",
    "print(x2)\n"
   ]
  },
  {
   "cell_type": "markdown",
   "metadata": {},
   "source": [
    "Array Indexing\n",
    "---------"
   ]
  },
  {
   "cell_type": "code",
   "execution_count": 41,
   "metadata": {},
   "outputs": [
    {
     "name": "stdout",
     "output_type": "stream",
     "text": [
      "[20 30 40 50 32 45 65 76]\n",
      "20\n",
      "45\n",
      "76\n",
      "65\n",
      "[76 65 45 32 50 40 30 20]\n",
      "[20 30 32 40 45 50 65 76]\n",
      "_______________________________________________\n",
      "[[1 2 3]\n",
      " [4 5 6]\n",
      " [7 8 9]]\n",
      "9\n",
      "6\n",
      "5\n",
      "9\n",
      "8\n",
      "[[10  2  3]\n",
      " [ 4  5  6]\n",
      " [ 7  8  9]]\n"
     ]
    }
   ],
   "source": [
    "venolearn_array  = np.array([20, 30 , 40 , 50 , 32, 45, 65, 76])\n",
    "print(venolearn_array)\n",
    "print(venolearn_array[0])\n",
    "print(venolearn_array[5])\n",
    "print(venolearn_array[-1]) # gives the last value 76\n",
    "print(venolearn_array[-2]) # gives the second last value 65\n",
    "print(venolearn_array[::-1]) # reverses the entire array elements \n",
    "print(np.sort(venolearn_array)) # sorts the entire array in ascending order \n",
    "print(\"_______________________________________________\")\n",
    "venolearn_ndim = np.array([[1, 2, 3], [4, 5, 6], [7, 8, 9]])\n",
    "print(venolearn_ndim)\n",
    "print(venolearn_ndim[2,2])\n",
    "print(venolearn_ndim[1,2])\n",
    "print(venolearn_ndim[1,1])\n",
    "print(venolearn_ndim[2,-1])\n",
    "print(venolearn_ndim[2,-2])\n",
    "venolearn_ndim[0,0] = 10 # replace value at 0,0 index \n",
    "print(venolearn_ndim)"
   ]
  },
  {
   "cell_type": "markdown",
   "metadata": {},
   "source": [
    "Array Slicing\n",
    "-------"
   ]
  },
  {
   "cell_type": "code",
   "execution_count": 22,
   "metadata": {},
   "outputs": [
    {
     "name": "stdout",
     "output_type": "stream",
     "text": [
      "[40 50 32 45]\n"
     ]
    }
   ],
   "source": [
    "print(venolearn_array[2:6]) # gives elements from index 2 to index 5"
   ]
  },
  {
   "cell_type": "code",
   "execution_count": 23,
   "metadata": {},
   "outputs": [
    {
     "name": "stdout",
     "output_type": "stream",
     "text": [
      "[20 30 40 50 32 45]\n"
     ]
    }
   ],
   "source": [
    "print(venolearn_array[:6]) # gives elements from index 0 to index 5"
   ]
  },
  {
   "cell_type": "code",
   "execution_count": 25,
   "metadata": {},
   "outputs": [
    {
     "name": "stdout",
     "output_type": "stream",
     "text": [
      "[40 50 32 45 65 76]\n"
     ]
    }
   ],
   "source": [
    "print(venolearn_array[2:]) # gives elements from index 2 to index 7"
   ]
  },
  {
   "cell_type": "code",
   "execution_count": 26,
   "metadata": {},
   "outputs": [
    {
     "name": "stdout",
     "output_type": "stream",
     "text": [
      "[20 40 32 65]\n"
     ]
    }
   ],
   "source": [
    "print(venolearn_array[::2]) # gives elements at even places"
   ]
  },
  {
   "cell_type": "code",
   "execution_count": 27,
   "metadata": {},
   "outputs": [
    {
     "name": "stdout",
     "output_type": "stream",
     "text": [
      "[20 30 40 50 32 45 65 76]\n"
     ]
    }
   ],
   "source": [
    "print(venolearn_array[::1]) # prints the same array"
   ]
  },
  {
   "cell_type": "code",
   "execution_count": 31,
   "metadata": {},
   "outputs": [
    {
     "name": "stdout",
     "output_type": "stream",
     "text": [
      "[20 40 32 65]\n"
     ]
    }
   ],
   "source": [
    "print(venolearn_array[0::2]) # return the elements step by 2"
   ]
  },
  {
   "cell_type": "markdown",
   "metadata": {},
   "source": [
    "Array concatenation\n",
    "-------------"
   ]
  },
  {
   "cell_type": "code",
   "execution_count": 43,
   "metadata": {},
   "outputs": [
    {
     "name": "stdout",
     "output_type": "stream",
     "text": [
      "[1 2 3 4 5 6 7 8 9]\n"
     ]
    }
   ],
   "source": [
    "v1 = np.array([1, 2, 3])\n",
    "v2 = np.array([4, 5, 6])\n",
    "v3 = np.array([7, 8, 9])\n",
    "v = np.concatenate([v1, v2, v3])\n",
    "print(v)"
   ]
  },
  {
   "cell_type": "code",
   "execution_count": 50,
   "metadata": {},
   "outputs": [
    {
     "name": "stdout",
     "output_type": "stream",
     "text": [
      "[[ 1  2  3]\n",
      " [ 4  5  6]\n",
      " [11 22 33]\n",
      " [44 55 66]]\n",
      "___________________________________\n",
      "[[ 1  2  3 11 22 33]\n",
      " [ 4  5  6 44 55 66]]\n",
      "____________________________________\n",
      "[[ 1  2  3]\n",
      " [ 4  5  6]\n",
      " [11 22 33]\n",
      " [44 55 66]]\n"
     ]
    }
   ],
   "source": [
    "v11 = np.array([[1,2,3],[4,5,6]])\n",
    "v22 = np.array([[11,22,33],[44,55,66]])\n",
    "print(np.concatenate([v11, v22])) \n",
    "print(\"___________________________________\")\n",
    "print(np.concatenate([v11, v22],axis=1))     # axis =1 means columns \n",
    "print(\"____________________________________\")\n",
    "print(np.concatenate([v11, v22],axis=0))     # axis =0 means rows "
   ]
  },
  {
   "cell_type": "code",
   "execution_count": 8,
   "metadata": {},
   "outputs": [
    {
     "name": "stdout",
     "output_type": "stream",
     "text": [
      "[[1 2 3]\n",
      " [4 5 6]]\n",
      "______________________\n",
      "[[10 11 12]\n",
      " [20 30 40]]\n",
      "___________________________\n",
      "[[ 1  2  3 10 11 12]\n",
      " [ 4  5  6 20 30 40]]\n",
      "[[9]\n",
      " [9]]\n",
      "__________________________\n",
      "[[1 2 3 9]\n",
      " [4 5 6 9]]\n",
      "________________________\n",
      "[[ 1  2  3]\n",
      " [ 4  5  6]\n",
      " [10 11 12]\n",
      " [20 30 40]]\n",
      "____________________________\n",
      "[[1 2 3]\n",
      " [4 5 6]\n",
      " [9 9 9]]\n"
     ]
    }
   ],
   "source": [
    "# concatenation can be used to combine arrays of equal dimension \n",
    "x11 = np.array([[1,2,3],[4,5,6]])\n",
    "print(x11)\n",
    "print(\"______________________\")\n",
    "y11 = np.array([[10, 11, 12],[20, 30 , 40 ]])\n",
    "print(y11)\n",
    "print(\"___________________________\")\n",
    "z11 = np.hstack([x11, y11])\n",
    "print(z11)\n",
    "x22 = np.array([[9],[9]])\n",
    "print(x22)\n",
    "print(\"__________________________\")\n",
    "z22 = np.hstack([x11, x22])\n",
    "print(z22)\n",
    "print(\"________________________\")\n",
    "z33 = np.vstack([x11, y11])\n",
    "print(z33)\n",
    "x33 = np.array([9, 9, 9])\n",
    "print(\"____________________________\")\n",
    "z44 = np.vstack([x11, x33])\n",
    "print(z44)"
   ]
  },
  {
   "cell_type": "markdown",
   "metadata": {},
   "source": [
    "Broadcasting and matrix operations\n",
    "----------------------------------"
   ]
  },
  {
   "cell_type": "code",
   "execution_count": 9,
   "metadata": {},
   "outputs": [
    {
     "name": "stdout",
     "output_type": "stream",
     "text": [
      "[[1 2 3]\n",
      " [4 5 6]]\n",
      "___________________\n",
      "[[10 20 30]\n",
      " [40 50 60]]\n",
      "____________________________\n",
      "[[11 22 33]\n",
      " [44 55 66]]\n",
      "__________________\n",
      "[[ 10  40  90]\n",
      " [160 250 360]]\n",
      "_________________\n",
      "[[ -9 -18 -27]\n",
      " [-36 -45 -54]]\n",
      "___________________\n",
      "[[0.1 0.1 0.1]\n",
      " [0.1 0.1 0.1]]\n",
      "_________________________\n"
     ]
    }
   ],
   "source": [
    "abc = np.array([[1,2,3],[4,5,6]])\n",
    "print(abc)\n",
    "print(\"___________________\")\n",
    "pqr = np.array([[10,20,30],[40,50,60]])\n",
    "print(pqr)\n",
    "print(\"____________________________\")\n",
    "print(abc + pqr)\n",
    "print(\"__________________\")\n",
    "print(abc * pqr)\n",
    "print(\"_________________\")\n",
    "print(abc - pqr)\n",
    "print(\"___________________\")\n",
    "print(abc/pqr)\n",
    "print(\"_________________________\")"
   ]
  },
  {
   "cell_type": "code",
   "execution_count": 15,
   "metadata": {},
   "outputs": [
    {
     "name": "stdout",
     "output_type": "stream",
     "text": [
      "140\n",
      "______________________________________\n",
      "[14 32 50]\n",
      "______________________________________\n",
      "[[ 30  36  42]\n",
      " [ 66  81  96]\n",
      " [102 126 150]]\n",
      "______________________________________\n",
      "[[10 20 30]\n",
      " [20 40 60]\n",
      " [30 60 90]]\n"
     ]
    }
   ],
   "source": [
    "abc = np.array([[1,2,3],[4,5,6],[7, 8, 9]])\n",
    "v1 = np.array([1, 2, 3])\n",
    "v2 = np.array([10, 20, 30])\n",
    "print(np.dot(v1, v2)) # vector vector dot product\n",
    "print(\"______________________________________\")\n",
    "print(np.dot(abc, v1)) # matrix vector dot product\n",
    "print(\"______________________________________\")\n",
    "print(np.dot(abc, abc)) # matrix matrix dot product\n",
    "print(\"______________________________________\")\n",
    "print(np.outer(v1, v2)) # vector vector outer product"
   ]
  },
  {
   "cell_type": "markdown",
   "metadata": {},
   "source": [
    "Matrix splitting\n",
    "--------"
   ]
  },
  {
   "cell_type": "code",
   "execution_count": 18,
   "metadata": {},
   "outputs": [
    {
     "name": "stdout",
     "output_type": "stream",
     "text": [
      "[0 1 2 3 4 5 6 7 8 9]\n",
      "[0 1 2]\n",
      "[3 4 5]\n",
      "[6 7 8 9]\n",
      "[[ 1  2  3]\n",
      " [ 4  5  6]\n",
      " [ 7  8  9]\n",
      " [10 11 22]]\n",
      "_______________________________________\n",
      "[array([[ 1,  2],\n",
      "       [ 4,  5],\n",
      "       [ 7,  8],\n",
      "       [10, 11]]), array([[ 3],\n",
      "       [ 6],\n",
      "       [ 9],\n",
      "       [22]]), array([], shape=(4, 0), dtype=int32)]\n",
      "_______________________________________\n",
      "[array([[1, 2, 3],\n",
      "       [4, 5, 6]]), array([[ 7,  8,  9],\n",
      "       [10, 11, 22]]), array([], shape=(0, 3), dtype=int32)]\n"
     ]
    }
   ],
   "source": [
    "x = np.arange(10)\n",
    "print(x)\n",
    "x1,x2,x3 = np.split(x,[3,6])\n",
    "print(x1)\n",
    "print(x2)\n",
    "print(x3)\n",
    "abc = np.array([[1,2,3],[4,5,6],[7, 8, 9],[10, 11, 22]])\n",
    "print(abc)\n",
    "print(\"_______________________________________\")\n",
    "print(np.hsplit(abc,[2,4] )) # Hsplit row count remains same \n",
    "print(\"_______________________________________\")\n",
    "print(np.vsplit(abc,[2,4])) # vsplit column count remains same "
   ]
  },
  {
   "cell_type": "code",
   "execution_count": null,
   "metadata": {},
   "outputs": [],
   "source": []
  }
 ],
 "metadata": {
  "kernelspec": {
   "display_name": "Python 3",
   "language": "python",
   "name": "python3"
  },
  "language_info": {
   "codemirror_mode": {
    "name": "ipython",
    "version": 3
   },
   "file_extension": ".py",
   "mimetype": "text/x-python",
   "name": "python",
   "nbconvert_exporter": "python",
   "pygments_lexer": "ipython3",
   "version": "3.7.1"
  }
 },
 "nbformat": 4,
 "nbformat_minor": 2
}
